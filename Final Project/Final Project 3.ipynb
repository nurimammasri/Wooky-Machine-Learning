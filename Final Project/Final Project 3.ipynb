{
  "nbformat": 4,
  "nbformat_minor": 0,
  "metadata": {
    "kernelspec": {
      "display_name": "Python 3",
      "language": "python",
      "name": "python3"
    },
    "language_info": {
      "codemirror_mode": {
        "name": "ipython",
        "version": 3
      },
      "file_extension": ".py",
      "mimetype": "text/x-python",
      "name": "python",
      "nbconvert_exporter": "python",
      "pygments_lexer": "ipython3",
      "version": "3.7.5"
    },
    "colab": {
      "name": "Final Project 3.ipynb",
      "provenance": [],
      "collapsed_sections": []
    }
  },
  "cells": [
    {
      "cell_type": "markdown",
      "metadata": {
        "id": "aupfprRwXrRo"
      },
      "source": [
        "<a href=\"https://colab.research.google.com/github/nurimammasri/Wooky-Machine-Learning/blob/main/Final%20Project/Final%20Project%203.ipynb\" target=\"_parent\"><img src=\"https://colab.research.google.com/assets/colab-badge.svg\" alt=\"Open In Colab\"/></a>"
      ]
    },
    {
      "cell_type": "markdown",
      "metadata": {
        "id": "72TpRz-T0rDe"
      },
      "source": [
        "# File Notebook untuk Machine Learning Competition"
      ]
    },
    {
      "cell_type": "code",
      "metadata": {
        "id": "9ZP14NQP0rDf"
      },
      "source": [
        "import numpy as np\n",
        "import pandas as pd\n",
        "\n",
        "#load data csv\n",
        "df1 = pd.read_csv('https://drive.google.com/uc?id=14yUYJH-tz-tj4oOiGn7Bkbjh0cz-Y0OX')\n",
        "df2 = pd.read_csv('https://drive.google.com/uc?id=1-E8qd6nEIqHK774rUVaWhEDBRuwA113w')\n",
        "\n",
        "df1=pd.read_csv('https://raw.githubusercontent.com/nurimammasri/Wooky-Machine-Learning/main/Data/final%20project/train.csv')\n",
        "df2=pd.read_csv('https://raw.githubusercontent.com/nurimammasri/Wooky-Machine-Learning/main/Data/final%20project/test.csv')"
      ],
      "execution_count": 1,
      "outputs": []
    },
    {
      "cell_type": "markdown",
      "metadata": {
        "id": "Q01dcHOA0rDi"
      },
      "source": [
        "## Tahap pertama adalah memanipulasi data agar ia dapat diproses pada model machine learning selanjutnya"
      ]
    },
    {
      "cell_type": "code",
      "metadata": {
        "id": "io1C6OU-0rDj"
      },
      "source": [
        "#Sebelum diload, saya sudah periksa data csv, dan ia mengandung data kosong dengan value string '?'\n",
        "#Replace data kosong dengan NaN\n",
        "df1 = df1.replace('?', np.nan)\n",
        "df2 = df2.replace('?', np.nan)"
      ],
      "execution_count": 2,
      "outputs": []
    },
    {
      "cell_type": "code",
      "metadata": {
        "id": "QSjAGRoz0rDl"
      },
      "source": [
        "#Isi data NaN dengan method frontfill\n",
        "df1 = df1.fillna(method='ffill')\n",
        "df2 = df2.fillna(method='ffill')"
      ],
      "execution_count": 3,
      "outputs": []
    },
    {
      "cell_type": "code",
      "metadata": {
        "id": "je57YJ_R0rDn"
      },
      "source": [
        "#Encode data untuk kolom berisi data string\n",
        "df1 = pd.get_dummies(df1, columns=['Kelas Pekerja', 'Status Perkawinan',\n",
        "             'Pekerjaan'])\n",
        "df2 = pd.get_dummies(df2, columns=['Kelas Pekerja', 'Status Perkawinan',\n",
        "             'Pekerjaan'])"
      ],
      "execution_count": 4,
      "outputs": []
    },
    {
      "cell_type": "code",
      "metadata": {
        "id": "gepZhaEK0rDq"
      },
      "source": [
        "#Replace kolom pendidikan dengan data ordeal\n",
        "col1 = {'SD':1,'1st-4th':2, '5th-6th':3, '7th-8th':4, \n",
        "        '9th':5, '10th':6, '11th':7, '12th':8, 'SMA':9, \n",
        "        'Pendidikan Tinggi':10, 'D4':11, 'D3':12, 'Sarjana':13, \n",
        "        'Master':14, 'Sekolah Professional':15, 'Doktor':16 }\n",
        "df1['Pendidikan'] = df1['Pendidikan'].replace(col1)\n",
        "df2['Pendidikan'] = df2['Pendidikan'].replace(col1)"
      ],
      "execution_count": 5,
      "outputs": []
    },
    {
      "cell_type": "code",
      "metadata": {
        "id": "dQHDQHny0rDs"
      },
      "source": [
        "#replace kolom jenis kelamin dengan data ordeal\n",
        "col2 = {'Laki2':1, 'Perempuan':2}\n",
        "df1['Jenis Kelamin'] = df1['Jenis Kelamin'].replace(col2)\n",
        "df2['Jenis Kelamin'] = df2['Jenis Kelamin'].replace(col2)"
      ],
      "execution_count": 6,
      "outputs": []
    },
    {
      "cell_type": "code",
      "metadata": {
        "id": "SJQRiTbm0rDu"
      },
      "source": [
        "#replace data label\n",
        "col3 = {'<=7jt':0, '>7jt':1}\n",
        "df1['Gaji'] = df1['Gaji'].replace(col3)"
      ],
      "execution_count": 7,
      "outputs": []
    },
    {
      "cell_type": "markdown",
      "metadata": {
        "id": "zBeFey8-0rDw"
      },
      "source": [
        "## Untuk percobaan model, saya akan menggunakan dua model, yaitu KNN dan Decision Tree Regressor"
      ]
    },
    {
      "cell_type": "code",
      "metadata": {
        "id": "kV00_VsP0rDx"
      },
      "source": [
        "from sklearn.neighbors import KNeighborsClassifier\n",
        "from sklearn.model_selection import GridSearchCV, RandomizedSearchCV"
      ],
      "execution_count": 8,
      "outputs": []
    },
    {
      "cell_type": "code",
      "metadata": {
        "id": "iQxbBAIf0rDy"
      },
      "source": [
        "#Pemilihan data train, dan data test\n",
        "X_train = df1.drop('Gaji', axis=1)\n",
        "y_train = df1['Gaji']\n",
        "y_train = y_train\n",
        "\n",
        "X_test = df2"
      ],
      "execution_count": 9,
      "outputs": []
    },
    {
      "cell_type": "markdown",
      "metadata": {
        "id": "C051wdGU0rD0"
      },
      "source": [
        "### Model Pertama: KNN"
      ]
    },
    {
      "cell_type": "code",
      "metadata": {
        "id": "y_hBNfNq0rD1",
        "colab": {
          "base_uri": "https://localhost:8080/"
        },
        "outputId": "a8672547-c4ab-4ef7-b893-2a949c5d85a6"
      },
      "source": [
        "#Percobaan pertama menggunakan model KNN\n",
        "#Ujicoba tuning hyperparameter KNN\n",
        "model = KNeighborsClassifier()\n",
        "param_grids = {\n",
        "    'n_neighbors':np.arange(10,40), \n",
        "    'weights': ['uniform','distance'], \n",
        "}\n",
        "rscv = RandomizedSearchCV(model, param_distributions=param_grids, n_iter=25, scoring='roc_auc', cv=5)\n",
        "rscv.fit(X_train,y_train)"
      ],
      "execution_count": 10,
      "outputs": [
        {
          "output_type": "execute_result",
          "data": {
            "text/plain": [
              "RandomizedSearchCV(cv=5, error_score=nan,\n",
              "                   estimator=KNeighborsClassifier(algorithm='auto',\n",
              "                                                  leaf_size=30,\n",
              "                                                  metric='minkowski',\n",
              "                                                  metric_params=None,\n",
              "                                                  n_jobs=None, n_neighbors=5,\n",
              "                                                  p=2, weights='uniform'),\n",
              "                   iid='deprecated', n_iter=25, n_jobs=None,\n",
              "                   param_distributions={'n_neighbors': array([10, 11, 12, 13, 14, 15, 16, 17, 18, 19, 20, 21, 22, 23, 24, 25, 26,\n",
              "       27, 28, 29, 30, 31, 32, 33, 34, 35, 36, 37, 38, 39]),\n",
              "                                        'weights': ['uniform', 'distance']},\n",
              "                   pre_dispatch='2*n_jobs', random_state=None, refit=True,\n",
              "                   return_train_score=False, scoring='roc_auc', verbose=0)"
            ]
          },
          "metadata": {},
          "execution_count": 10
        }
      ]
    },
    {
      "cell_type": "code",
      "metadata": {
        "id": "LwxewNOk0rD2",
        "colab": {
          "base_uri": "https://localhost:8080/"
        },
        "outputId": "5e30c908-63fd-402f-c699-83f3b87bdc3f"
      },
      "source": [
        "#dapatkan hyperparameter terbaik\n",
        "rscv.best_params_"
      ],
      "execution_count": 11,
      "outputs": [
        {
          "output_type": "execute_result",
          "data": {
            "text/plain": [
              "{'n_neighbors': 24, 'weights': 'distance'}"
            ]
          },
          "metadata": {},
          "execution_count": 11
        }
      ]
    },
    {
      "cell_type": "code",
      "metadata": {
        "id": "fLI1eJG90rD5",
        "colab": {
          "base_uri": "https://localhost:8080/"
        },
        "outputId": "73565f49-270a-44d9-cef3-ec84cdfa9607"
      },
      "source": [
        "#dapatkan score terbaik\n",
        "rscv.best_score_"
      ],
      "execution_count": 12,
      "outputs": [
        {
          "output_type": "execute_result",
          "data": {
            "text/plain": [
              "0.6758224149284605"
            ]
          },
          "metadata": {},
          "execution_count": 12
        }
      ]
    },
    {
      "cell_type": "code",
      "metadata": {
        "id": "Z5aJ2jxw0rD7",
        "colab": {
          "base_uri": "https://localhost:8080/"
        },
        "outputId": "ffa297a5-2a1f-486b-df4a-f4d1d6a07e09"
      },
      "source": [
        "#Gunakan hyperparameter terbaik setelah tuning pada model KNN\n",
        "model = KNeighborsClassifier(n_neighbors=24, weights='distance')\n",
        "model.fit(X_train, y_train)"
      ],
      "execution_count": 13,
      "outputs": [
        {
          "output_type": "execute_result",
          "data": {
            "text/plain": [
              "KNeighborsClassifier(algorithm='auto', leaf_size=30, metric='minkowski',\n",
              "                     metric_params=None, n_jobs=None, n_neighbors=24, p=2,\n",
              "                     weights='distance')"
            ]
          },
          "metadata": {},
          "execution_count": 13
        }
      ]
    },
    {
      "cell_type": "code",
      "metadata": {
        "id": "AEWFm15h0rD8"
      },
      "source": [
        "#prediksi data test model KNN\n",
        "y_pred = model.predict(X_test)"
      ],
      "execution_count": 14,
      "outputs": []
    },
    {
      "cell_type": "code",
      "metadata": {
        "id": "zsfDE6Yb0rD-"
      },
      "source": [
        "#Ubah data test menjadi data Frame\n",
        "cek = pd.DataFrame(y_pred, columns=['Gaji'])"
      ],
      "execution_count": 15,
      "outputs": []
    },
    {
      "cell_type": "code",
      "metadata": {
        "id": "jC4fHO6t0rEA"
      },
      "source": [
        "#Simpan data test pada file csv\n",
        "#Input index di sini masih dimulai dari nol\n",
        "#Untuk urutan index dimulai dari 35994 diinput manual pada saat membuka file csv\n",
        "cek.to_csv('prediction1.csv')"
      ],
      "execution_count": 16,
      "outputs": []
    },
    {
      "cell_type": "markdown",
      "metadata": {
        "id": "gApJ58MT0rEC"
      },
      "source": [
        "### Model Kedua: Decision Tree Regressor"
      ]
    },
    {
      "cell_type": "code",
      "metadata": {
        "id": "0Jkr8n6h0rEC"
      },
      "source": [
        "from sklearn.tree import DecisionTreeRegressor"
      ],
      "execution_count": 17,
      "outputs": []
    },
    {
      "cell_type": "code",
      "metadata": {
        "id": "DKYnpFni0rEE",
        "colab": {
          "base_uri": "https://localhost:8080/"
        },
        "outputId": "8ad3ed9b-0d38-4fd8-9bac-3086d246e330"
      },
      "source": [
        "#Percobaan kedua menggunakan model Decision Tree Regressor\n",
        "#Ujicoba tuning hyperparameter Decision Tree Regressor\n",
        "#Untuk menghemat waktu, saya lakukan per-penilaian per-parameter. Selalu didapat untuk max depth nilai 8 adalah terbaik\n",
        "#Begitu pula nilai hyperparameter selanjutnya\n",
        "model2 = DecisionTreeRegressor()\n",
        "param2_grids = {\n",
        "    'max_depth':np.arange(1,10),\n",
        "    'min_samples_split':[5],\n",
        "    'min_samples_leaf':np.arange(1,5)\n",
        "}\n",
        "gscv = GridSearchCV(model2, param_grid=param2_grids, scoring='roc_auc', cv=10)\n",
        "gscv.fit(X_train,y_train)"
      ],
      "execution_count": 18,
      "outputs": [
        {
          "output_type": "execute_result",
          "data": {
            "text/plain": [
              "GridSearchCV(cv=10, error_score=nan,\n",
              "             estimator=DecisionTreeRegressor(ccp_alpha=0.0, criterion='mse',\n",
              "                                             max_depth=None, max_features=None,\n",
              "                                             max_leaf_nodes=None,\n",
              "                                             min_impurity_decrease=0.0,\n",
              "                                             min_impurity_split=None,\n",
              "                                             min_samples_leaf=1,\n",
              "                                             min_samples_split=2,\n",
              "                                             min_weight_fraction_leaf=0.0,\n",
              "                                             presort='deprecated',\n",
              "                                             random_state=None,\n",
              "                                             splitter='best'),\n",
              "             iid='deprecated', n_jobs=None,\n",
              "             param_grid={'max_depth': array([1, 2, 3, 4, 5, 6, 7, 8, 9]),\n",
              "                         'min_samples_leaf': array([1, 2, 3, 4]),\n",
              "                         'min_samples_split': [5]},\n",
              "             pre_dispatch='2*n_jobs', refit=True, return_train_score=False,\n",
              "             scoring='roc_auc', verbose=0)"
            ]
          },
          "metadata": {},
          "execution_count": 18
        }
      ]
    },
    {
      "cell_type": "code",
      "metadata": {
        "id": "3DE-BvC30rEG",
        "colab": {
          "base_uri": "https://localhost:8080/"
        },
        "outputId": "a9977817-9be9-44b6-bb29-1e3866d88529"
      },
      "source": [
        "#dapatkan hyperparameter terbaik\n",
        "gscv.best_params_"
      ],
      "execution_count": 19,
      "outputs": [
        {
          "output_type": "execute_result",
          "data": {
            "text/plain": [
              "{'max_depth': 8, 'min_samples_leaf': 3, 'min_samples_split': 5}"
            ]
          },
          "metadata": {},
          "execution_count": 19
        }
      ]
    },
    {
      "cell_type": "code",
      "metadata": {
        "id": "S9cKt6Y-0rEI",
        "colab": {
          "base_uri": "https://localhost:8080/"
        },
        "outputId": "73db5caa-0d30-475e-c551-3f55fcb52df5"
      },
      "source": [
        "#dapatkan score terbaik\n",
        "gscv.best_score_"
      ],
      "execution_count": 20,
      "outputs": [
        {
          "output_type": "execute_result",
          "data": {
            "text/plain": [
              "0.90291848701466"
            ]
          },
          "metadata": {},
          "execution_count": 20
        }
      ]
    },
    {
      "cell_type": "code",
      "metadata": {
        "id": "1NqhrTXP0rEK",
        "colab": {
          "base_uri": "https://localhost:8080/"
        },
        "outputId": "3a75b4cd-47d0-451d-8664-a988185b3662"
      },
      "source": [
        "#Gunakan hyperparameter terbaik setelah tuning pada model Decision Tree Regressor\n",
        "model2 = DecisionTreeRegressor(max_depth=8, min_samples_leaf=3, min_samples_split=5)\n",
        "model2.fit(X_train, y_train)"
      ],
      "execution_count": 21,
      "outputs": [
        {
          "output_type": "execute_result",
          "data": {
            "text/plain": [
              "DecisionTreeRegressor(ccp_alpha=0.0, criterion='mse', max_depth=8,\n",
              "                      max_features=None, max_leaf_nodes=None,\n",
              "                      min_impurity_decrease=0.0, min_impurity_split=None,\n",
              "                      min_samples_leaf=3, min_samples_split=5,\n",
              "                      min_weight_fraction_leaf=0.0, presort='deprecated',\n",
              "                      random_state=None, splitter='best')"
            ]
          },
          "metadata": {},
          "execution_count": 21
        }
      ]
    },
    {
      "cell_type": "code",
      "metadata": {
        "id": "028nQQ7b0rEM"
      },
      "source": [
        "#prediksi data test model Decision Tree Regressor\n",
        "y_pred = model2.predict(X_test)"
      ],
      "execution_count": 22,
      "outputs": []
    },
    {
      "cell_type": "code",
      "metadata": {
        "id": "HEDtIDDB0rEO"
      },
      "source": [
        "#Ubah data test menjadi data Frame\n",
        "cek = pd.DataFrame(y_pred, columns=['Gaji'])"
      ],
      "execution_count": 23,
      "outputs": []
    },
    {
      "cell_type": "code",
      "metadata": {
        "id": "D0a2inWw0rEQ"
      },
      "source": [
        "#Simpan data test pada file csv\n",
        "#Input index di sini masih dimulai dari nol\n",
        "#Untuk urutan index dimulai dari 35994 diinput manual pada saat membuka file csv\n",
        "cek.to_csv('prediction2.csv')"
      ],
      "execution_count": 24,
      "outputs": []
    },
    {
      "cell_type": "markdown",
      "metadata": {
        "id": "2q82sJH-0rET"
      },
      "source": [
        "## Sejauh ini pada percobaan saya, model Decision Tree Regressor menghasilkan scoring lebih besar dibandingkan dengan model KNN. Dapat dikatakan bahwa, model Decision Tree Regressor adalah model yang cocok untuk data ini."
      ]
    }
  ]
}